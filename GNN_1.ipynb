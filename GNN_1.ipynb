{
  "nbformat": 4,
  "nbformat_minor": 0,
  "metadata": {
    "colab": {
      "name": "GNN-1.ipynb",
      "provenance": []
    },
    "kernelspec": {
      "name": "python3",
      "display_name": "Python 3"
    },
    "language_info": {
      "name": "python"
    }
  },
  "cells": [
    {
      "cell_type": "code",
      "metadata": {
        "id": "4pc_CRrSmz7X"
      },
      "source": [
        ""
      ],
      "execution_count": null,
      "outputs": []
    },
    {
      "cell_type": "code",
      "metadata": {
        "colab": {
          "base_uri": "https://localhost:8080/",
          "height": 623
        },
        "id": "YkerCxmznh5g",
        "outputId": "ca14d724-44bd-456c-c0b2-4778db0fe48d"
      },
      "source": [
        "# Enforce pytorch version 1.6.0\n",
        "'''import torch\n",
        "if torch.__version__ != '1.6.0':\n",
        "  !pip uninstall torch -y\n",
        "  !pip uninstall torchvision -y\n",
        "  !pip install torch==1.6.0\n",
        "  !pip install torchvision==0.7.0\n",
        "\n",
        "# Check pytorch version and make sure you use a GPU Kernel\n",
        "!python -c \"import torch; print(torch.__version__)\"\n",
        "!python -c \"import torch; print(torch.version.cuda)\"\n",
        "!python --version\n",
        "!nvidia-smi'''"
      ],
      "execution_count": 7,
      "outputs": [
        {
          "output_type": "stream",
          "name": "stdout",
          "text": [
            "Found existing installation: torch 1.9.0+cu102\n",
            "Uninstalling torch-1.9.0+cu102:\n",
            "  Successfully uninstalled torch-1.9.0+cu102\n",
            "Found existing installation: torchvision 0.10.0+cu102\n",
            "Uninstalling torchvision-0.10.0+cu102:\n",
            "  Successfully uninstalled torchvision-0.10.0+cu102\n",
            "Collecting torch==1.6.0\n",
            "  Downloading torch-1.6.0-cp37-cp37m-manylinux1_x86_64.whl (748.8 MB)\n",
            "\u001b[K     |████████████████████████████████| 748.8 MB 16 kB/s \n",
            "\u001b[?25hRequirement already satisfied: numpy in /usr/local/lib/python3.7/dist-packages (from torch==1.6.0) (1.19.5)\n",
            "Requirement already satisfied: future in /usr/local/lib/python3.7/dist-packages (from torch==1.6.0) (0.16.0)\n",
            "Installing collected packages: torch\n",
            "\u001b[31mERROR: pip's dependency resolver does not currently take into account all the packages that are installed. This behaviour is the source of the following dependency conflicts.\n",
            "fastai 1.0.61 requires torchvision, which is not installed.\n",
            "torchtext 0.10.0 requires torch==1.9.0, but you have torch 1.6.0 which is incompatible.\u001b[0m\n",
            "Successfully installed torch-1.6.0\n"
          ]
        },
        {
          "output_type": "display_data",
          "data": {
            "application/vnd.colab-display-data+json": {
              "pip_warning": {
                "packages": [
                  "torch"
                ]
              }
            }
          },
          "metadata": {}
        },
        {
          "output_type": "stream",
          "name": "stdout",
          "text": [
            "Collecting torchvision==0.7.0\n",
            "  Downloading torchvision-0.7.0-cp37-cp37m-manylinux1_x86_64.whl (5.9 MB)\n",
            "\u001b[K     |████████████████████████████████| 5.9 MB 15.8 MB/s \n",
            "\u001b[?25hRequirement already satisfied: numpy in /usr/local/lib/python3.7/dist-packages (from torchvision==0.7.0) (1.19.5)\n",
            "Requirement already satisfied: pillow>=4.1.1 in /usr/local/lib/python3.7/dist-packages (from torchvision==0.7.0) (7.1.2)\n",
            "Requirement already satisfied: torch==1.6.0 in /usr/local/lib/python3.7/dist-packages (from torchvision==0.7.0) (1.6.0)\n",
            "Requirement already satisfied: future in /usr/local/lib/python3.7/dist-packages (from torch==1.6.0->torchvision==0.7.0) (0.16.0)\n",
            "Installing collected packages: torchvision\n",
            "Successfully installed torchvision-0.7.0\n",
            "1.6.0\n",
            "10.2\n",
            "Python 3.7.12\n",
            "NVIDIA-SMI has failed because it couldn't communicate with the NVIDIA driver. Make sure that the latest NVIDIA driver is installed and running.\n",
            "\n"
          ]
        }
      ]
    },
    {
      "cell_type": "code",
      "metadata": {
        "id": "XvMILLL9nmfD"
      },
      "source": [
        "\n",
        "# If something breaks in the notebook it is probably related to a mismatch between the Python version, CUDA or torch\n",
        "import torch\n",
        "pytorch_version = f\"torch-{torch.__version__}+cu{torch.version.cuda.replace('.', '')}.html\"\n",
        "!pip install --no-index torch-scatter -f https://pytorch-geometric.com/whl/$pytorch_version\n",
        "!pip install --no-index torch-sparse -f https://pytorch-geometric.com/whl/$pytorch_version\n",
        "!pip install --no-index torch-cluster -f https://pytorch-geometric.com/whl/$pytorch_version\n",
        "!pip install --no-index torch-spline-conv -f https://pytorch-geometric.com/whl/$pytorch_version\n",
        "!pip install torch-geometric"
      ],
      "execution_count": null,
      "outputs": []
    },
    {
      "cell_type": "code",
      "metadata": {
        "id": "4f0Lr4O9nY5X"
      },
      "source": [
        "import torch\n",
        "import torch_geometric\n",
        "from torch_geometric.data import Data"
      ],
      "execution_count": 17,
      "outputs": []
    },
    {
      "cell_type": "code",
      "metadata": {
        "id": "DcJLll8-ofGj"
      },
      "source": [
        "edge_idx=torch.tensor([[0,1,1,2],\n",
        "                       [1,0,2,1]],dtype=torch.long)\n",
        "edge_atr=torch.tensor([[1,2],[3,4],[5,5.5],[1,1.9]],dtype=torch.long) #edge_attr (Tensor, optional) – Edge feature matrix with shape [num_edges, num_edge_features].\n",
        "\n",
        "x=torch.tensor([[100],[200],[300]],dtype=torch.float)\n",
        "\n"
      ],
      "execution_count": 41,
      "outputs": []
    },
    {
      "cell_type": "code",
      "metadata": {
        "colab": {
          "base_uri": "https://localhost:8080/",
          "height": 319
        },
        "id": "79L_aMhupG7Z",
        "outputId": "c0aebca9-b896-4767-eef3-2f35d9b4c66d"
      },
      "source": [
        "data=Data(x=x,edge_index=edge_idx,edge_attr=edge_atr)\n",
        "\n",
        "import networkx as nx\n",
        "import matplotlib.pyplot as plt\n",
        "\n",
        "g = torch_geometric.utils.to_networkx(data, to_undirected=True)\n",
        "nx.draw(g,cmap=plt.get_cmap('Set1'),node_color = x,node_size=x,linewidths=6)\n"
      ],
      "execution_count": 46,
      "outputs": [
        {
          "output_type": "display_data",
          "data": {
            "image/png": "[encoded data removed]",
            "text/plain": [
              "<Figure size 432x288 with 1 Axes>"
            ]
          },
          "metadata": {}
        }
      ]
    },
    {
      "cell_type": "code",
      "metadata": {
        "colab": {
          "base_uri": "https://localhost:8080/"
        },
        "id": "6247Mhn1pYYZ",
        "outputId": "05d1160c-d1dd-417a-94c7-3189a9c7a72a"
      },
      "source": [
        "print(data.keys)"
      ],
      "execution_count": 8,
      "outputs": [
        {
          "output_type": "stream",
          "name": "stdout",
          "text": [
            "['x', 'edge_idx']\n"
          ]
        }
      ]
    },
    {
      "cell_type": "code",
      "metadata": {
        "colab": {
          "base_uri": "https://localhost:8080/"
        },
        "id": "rya4hJwQppsr",
        "outputId": "d7c25028-1b1f-40d7-d985-4d51a2ffd47b"
      },
      "source": [
        "print(data['x'])"
      ],
      "execution_count": 9,
      "outputs": [
        {
          "output_type": "stream",
          "name": "stdout",
          "text": [
            "tensor([[-1],\n",
            "        [ 0],\n",
            "        [ 1]])\n"
          ]
        }
      ]
    },
    {
      "cell_type": "code",
      "metadata": {
        "colab": {
          "base_uri": "https://localhost:8080/"
        },
        "id": "xQIok3abpsvf",
        "outputId": "3f837575-47cf-4f75-9ab5-63a87b355dcc"
      },
      "source": [
        "print('x' in data)\n",
        "print('edge_attr' in data)  "
      ],
      "execution_count": 15,
      "outputs": [
        {
          "output_type": "stream",
          "name": "stdout",
          "text": [
            "True\n",
            "True\n"
          ]
        }
      ]
    },
    {
      "cell_type": "code",
      "metadata": {
        "id": "JqUQhOWCqBDN"
      },
      "source": [
        "device=torch.device('cpu')\n",
        "data=data.to(device)"
      ],
      "execution_count": 49,
      "outputs": []
    },
    {
      "cell_type": "code",
      "metadata": {
        "id": "j4ebbU8izWS1"
      },
      "source": [
        ""
      ],
      "execution_count": null,
      "outputs": []
    },
    {
      "cell_type": "markdown",
      "metadata": {
        "id": "aDXmkyi3zguJ"
      },
      "source": [
        "BenchMark Dataset"
      ]
    },
    {
      "cell_type": "code",
      "metadata": {
        "id": "JaTVYoQ6zi9m"
      },
      "source": [
        "from torch_geometric.datasets import TUDataset"
      ],
      "execution_count": 50,
      "outputs": []
    },
    {
      "cell_type": "code",
      "metadata": {
        "id": "jW9LHXy0zos1"
      },
      "source": [
        "dataset=TUDataset(root='/tmp/ENzYMES',name='ENZYMES')"
      ],
      "execution_count": 58,
      "outputs": []
    },
    {
      "cell_type": "code",
      "metadata": {
        "colab": {
          "base_uri": "https://localhost:8080/",
          "height": 996
        },
        "id": "bJgfs5LN1Sew",
        "outputId": "9846bf40-3e35-4fa8-a0bc-9a7766ff8466"
      },
      "source": [
        "p=dataset[0]\n",
        "print(p)\n",
        "print(p.x)\n",
        "print(p.y)\n",
        "g = torch_geometric.utils.to_networkx(p, to_undirected=True)\n",
        "nx.draw(g)"
      ],
      "execution_count": 64,
      "outputs": [
        {
          "output_type": "stream",
          "name": "stdout",
          "text": [
            "Data(edge_index=[2, 168], x=[37, 3], y=[1])\n",
            "tensor([[1., 0., 0.],\n",
            "        [1., 0., 0.],\n",
            "        [1., 0., 0.],\n",
            "        [1., 0., 0.],\n",
            "        [1., 0., 0.],\n",
            "        [1., 0., 0.],\n",
            "        [1., 0., 0.],\n",
            "        [1., 0., 0.],\n",
            "        [1., 0., 0.],\n",
            "        [1., 0., 0.],\n",
            "        [1., 0., 0.],\n",
            "        [1., 0., 0.],\n",
            "        [1., 0., 0.],\n",
            "        [1., 0., 0.],\n",
            "        [1., 0., 0.],\n",
            "        [1., 0., 0.],\n",
            "        [1., 0., 0.],\n",
            "        [1., 0., 0.],\n",
            "        [1., 0., 0.],\n",
            "        [1., 0., 0.],\n",
            "        [1., 0., 0.],\n",
            "        [1., 0., 0.],\n",
            "        [1., 0., 0.],\n",
            "        [1., 0., 0.],\n",
            "        [0., 1., 0.],\n",
            "        [0., 1., 0.],\n",
            "        [0., 1., 0.],\n",
            "        [0., 1., 0.],\n",
            "        [0., 1., 0.],\n",
            "        [0., 1., 0.],\n",
            "        [0., 1., 0.],\n",
            "        [0., 1., 0.],\n",
            "        [0., 1., 0.],\n",
            "        [0., 1., 0.],\n",
            "        [0., 1., 0.],\n",
            "        [0., 1., 0.],\n",
            "        [0., 1., 0.]])\n",
            "tensor([5])\n"
          ]
        },
        {
          "output_type": "display_data",
          "data": {
            "image/png": "[encoded data removed]",
            "text/plain": [
              "<Figure size 432x288 with 1 Axes>"
            ]
          },
          "metadata": {}
        }
      ]
    },
    {
      "cell_type": "code",
      "metadata": {
        "colab": {
          "base_uri": "https://localhost:8080/"
        },
        "id": "eor1kkJs1_7t",
        "outputId": "24f9b927-7dc8-4033-c1c1-6361394208cf"
      },
      "source": [
        "from torch_geometric.datasets import Planetoid\n",
        "\n",
        "dataset = Planetoid(root='/tmp/Cora', name='Cora')"
      ],
      "execution_count": 65,
      "outputs": [
        {
          "output_type": "stream",
          "name": "stderr",
          "text": [
            "Downloading https://github.com/kimiyoung/planetoid/raw/master/data/ind.cora.x\n",
            "Downloading https://github.com/kimiyoung/planetoid/raw/master/data/ind.cora.tx\n",
            "Downloading https://github.com/kimiyoung/planetoid/raw/master/data/ind.cora.allx\n",
            "Downloading https://github.com/kimiyoung/planetoid/raw/master/data/ind.cora.y\n",
            "Downloading https://github.com/kimiyoung/planetoid/raw/master/data/ind.cora.ty\n",
            "Downloading https://github.com/kimiyoung/planetoid/raw/master/data/ind.cora.ally\n",
            "Downloading https://github.com/kimiyoung/planetoid/raw/master/data/ind.cora.graph\n",
            "Downloading https://github.com/kimiyoung/planetoid/raw/master/data/ind.cora.test.index\n",
            "Processing...\n",
            "Done!\n"
          ]
        }
      ]
    },
    {
      "cell_type": "code",
      "metadata": {
        "colab": {
          "base_uri": "https://localhost:8080/"
        },
        "id": "u6WfgheQ3Ugr",
        "outputId": "ad626a5a-a4bb-4295-feed-1c29ff09ccc8"
      },
      "source": [
        "dataset.len()"
      ],
      "execution_count": 68,
      "outputs": [
        {
          "output_type": "execute_result",
          "data": {
            "text/plain": [
              "1"
            ]
          },
          "metadata": {},
          "execution_count": 68
        }
      ]
    },
    {
      "cell_type": "code",
      "metadata": {
        "colab": {
          "base_uri": "https://localhost:8080/"
        },
        "id": "Nx9QOFVp3ao2",
        "outputId": "3f0db2bc-88ad-45cb-d1b1-696da58a4dac"
      },
      "source": [
        "dataset.num_classes"
      ],
      "execution_count": 70,
      "outputs": [
        {
          "output_type": "execute_result",
          "data": {
            "text/plain": [
              "7"
            ]
          },
          "metadata": {},
          "execution_count": 70
        }
      ]
    },
    {
      "cell_type": "code",
      "metadata": {
        "colab": {
          "base_uri": "https://localhost:8080/"
        },
        "id": "bbkgbKHw3enz",
        "outputId": "8ef19350-211c-4e36-b95d-64dcc2c8618b"
      },
      "source": [
        "p=dataset[0]\n",
        "print(p)\n",
        "print(p.train_mask.sum())\n",
        "print(p.val_mask.sum())\n",
        "print(p.test_mask.sum())"
      ],
      "execution_count": 77,
      "outputs": [
        {
          "output_type": "stream",
          "name": "stdout",
          "text": [
            "Data(x=[2708, 1433], edge_index=[2, 10556], y=[2708], train_mask=[2708], val_mask=[2708], test_mask=[2708])\n",
            "tensor(140)\n",
            "tensor(500)\n",
            "tensor(1000)\n"
          ]
        }
      ]
    },
    {
      "cell_type": "code",
      "metadata": {
        "colab": {
          "base_uri": "https://localhost:8080/"
        },
        "id": "JRQgp3Pt4eV8",
        "outputId": "03f38843-9a6d-4d9c-e5f2-a07f73985fde"
      },
      "source": [
        "p.test_mask.shape"
      ],
      "execution_count": 82,
      "outputs": [
        {
          "output_type": "execute_result",
          "data": {
            "text/plain": [
              "torch.Size([2708])"
            ]
          },
          "metadata": {},
          "execution_count": 82
        }
      ]
    },
    {
      "cell_type": "code",
      "metadata": {
        "id": "MjZAjPpj4tNH"
      },
      "source": [
        ""
      ],
      "execution_count": null,
      "outputs": []
    },
    {
      "cell_type": "markdown",
      "metadata": {
        "id": "p8fXXbvU5N7X"
      },
      "source": [
        "## MiniBatch"
      ]
    },
    {
      "cell_type": "code",
      "metadata": {
        "colab": {
          "base_uri": "https://localhost:8080/"
        },
        "id": "TirdS2Sq5QN8",
        "outputId": "64548540-b81f-4d04-dd21-3632ebc73d72"
      },
      "source": [
        "from torch_geometric.datasets import TUDataset\n",
        "from torch_geometric.loader import DataLoader\n",
        "\n",
        "dataset=TUDataset(root='/tmp/ENZYMES',name=\"ENZYMES\",use_node_attr=True)\n",
        "loader=DataLoader(dataset,batch_size=32,shuffle=True)\n"
      ],
      "execution_count": 83,
      "outputs": [
        {
          "output_type": "stream",
          "name": "stderr",
          "text": [
            "Downloading https://www.chrsmrrs.com/graphkerneldatasets/ENZYMES.zip\n",
            "Extracting /tmp/ENZYMES/ENZYMES/ENZYMES.zip\n",
            "Processing...\n",
            "Done!\n"
          ]
        }
      ]
    },
    {
      "cell_type": "code",
      "metadata": {
        "colab": {
          "base_uri": "https://localhost:8080/"
        },
        "id": "NAMBkaoB6lbz",
        "outputId": "deb954f9-78d5-490d-c00b-16701cb8d97d"
      },
      "source": [
        "print(len(dataset))\n",
        "print(dataset[0])"
      ],
      "execution_count": 89,
      "outputs": [
        {
          "output_type": "stream",
          "name": "stdout",
          "text": [
            "600\n",
            "Data(edge_index=[2, 168], x=[37, 21], y=[1])\n"
          ]
        }
      ]
    },
    {
      "cell_type": "code",
      "metadata": {
        "colab": {
          "base_uri": "https://localhost:8080/"
        },
        "id": "lHfd3McV53Lf",
        "outputId": "c6ac1763-ed7d-4f31-e248-9d359a7b64c8"
      },
      "source": [
        "for batch_idx,data in enumerate(loader):\n",
        "  if(batch_idx==1):\n",
        "    print(data)\n",
        "    \n",
        "    break"
      ],
      "execution_count": 87,
      "outputs": [
        {
          "output_type": "stream",
          "name": "stdout",
          "text": [
            "Batch(edge_index=[2, 4008], x=[1013, 21], y=[32], batch=[1013], ptr=[33])\n"
          ]
        }
      ]
    },
    {
      "cell_type": "code",
      "metadata": {
        "id": "fJK4re6R6P2h"
      },
      "source": [
        ""
      ],
      "execution_count": null,
      "outputs": []
    },
    {
      "cell_type": "markdown",
      "metadata": {
        "id": "41zjYv3X8R4b"
      },
      "source": [
        "## Training"
      ]
    },
    {
      "cell_type": "code",
      "metadata": {
        "id": "6aNADXZS8S9C"
      },
      "source": [
        "from torch_geometric.datasets import Planetoid\n"
      ],
      "execution_count": 90,
      "outputs": []
    },
    {
      "cell_type": "code",
      "metadata": {
        "colab": {
          "base_uri": "https://localhost:8080/"
        },
        "id": "mHLOcs_I8ZP8",
        "outputId": "ec47e4f3-8d76-4212-cc16-0f5e1408998c"
      },
      "source": [
        "dataset=Planetoid(root='/tmp/Cora',name='Cora')\n",
        "print(dataset.num_classes)\n",
        "print(dataset.len())\n",
        "print(dataset[0])\n",
        "print(dataset[0].y.unique()) # there is only 1 graph ( dataset[0]), this graph has 2708 nodes. Each node is classified in either of the 7 categories"
      ],
      "execution_count": 108,
      "outputs": [
        {
          "output_type": "stream",
          "name": "stdout",
          "text": [
            "7\n",
            "1\n",
            "Data(x=[2708, 1433], edge_index=[2, 10556], y=[2708], train_mask=[2708], val_mask=[2708], test_mask=[2708])\n",
            "tensor([0, 1, 2, 3, 4, 5, 6])\n"
          ]
        }
      ]
    },
    {
      "cell_type": "code",
      "metadata": {
        "id": "vAhq7uAy8f6w"
      },
      "source": [
        "import torch\n",
        "import torch.nn as nn\n",
        "import torch.nn.functional as F\n",
        "from torch_geometric.nn import GCNConv"
      ],
      "execution_count": 117,
      "outputs": []
    },
    {
      "cell_type": "code",
      "metadata": {
        "id": "_IVLct3z8uFK"
      },
      "source": [
        "class GCN(nn.Module):\n",
        "  def __init__(self):\n",
        "    super().__init__()\n",
        "    self.conv1=GCNConv(dataset.num_node_features,16)\n",
        "    self.conv2=GCNConv(16,dataset.num_classes)\n",
        "  \n",
        "  def forward(self,data):\n",
        "    x,edge_idx=data.x,data.edge_index\n",
        "\n",
        "    x=self.conv1(x,edge_idx)\n",
        "    x=F.relu(x)\n",
        "    x=F.dropout(x,training=self.training)\n",
        "    x=self.conv2(x,edge_idx)\n",
        "\n",
        "    return F.log_softmax(x,dim=1)"
      ],
      "execution_count": 124,
      "outputs": []
    },
    {
      "cell_type": "code",
      "metadata": {
        "id": "aEFy8-LXFfQ0"
      },
      "source": [
        "device = torch.device('cuda' if torch.cuda.is_available() else 'cpu')\n",
        "model = GCN().to(device)\n",
        "data = dataset[0].to(device)\n",
        "optimizer = torch.optim.Adam(model.parameters(), lr=0.01, weight_decay=5e-4)\n",
        "\n",
        "model.train()\n",
        "for epoch in range(200):\n",
        "    optimizer.zero_grad()\n",
        "    out = model(data)\n",
        "    loss = F.nll_loss(out[data.train_mask], data.y[data.train_mask])\n",
        "    loss.backward()\n",
        "    optimizer.step()"
      ],
      "execution_count": null,
      "outputs": []
    },
    {
      "cell_type": "code",
      "metadata": {
        "colab": {
          "base_uri": "https://localhost:8080/"
        },
        "id": "eKXwLe4LCiWh",
        "outputId": "10695b53-a78b-4153-b50b-39c577fcae49"
      },
      "source": [
        "device=torch.device('cuda' if torch.cuda.is_available() else 'cpu')\n",
        "model=GCN().to(device)\n",
        "data=dataset[0].to(device)\n",
        "optimizer=torch.optim.Adam(model.parameters(),lr=0.001,weight_decay=5e-4)\n",
        "\n",
        "model.train()\n",
        "for epoch in range(1000):\n",
        "  optimizer.zero_grad()\n",
        "  score=model(data)\n",
        "  loss=F.nll_loss(score[data.train_mask],data.y[data.train_mask])\n",
        "  if(epoch%10 ==0):\n",
        "    print(loss)\n",
        "  loss.backward()\n",
        "  optimizer.step()"
      ],
      "execution_count": 129,
      "outputs": [
        {
          "output_type": "stream",
          "name": "stdout",
          "text": [
            "tensor(1.9381, grad_fn=<NllLossBackward>)\n",
            "tensor(1.8174, grad_fn=<NllLossBackward>)\n",
            "tensor(1.6245, grad_fn=<NllLossBackward>)\n",
            "tensor(1.4737, grad_fn=<NllLossBackward>)\n",
            "tensor(1.2880, grad_fn=<NllLossBackward>)\n",
            "tensor(1.1115, grad_fn=<NllLossBackward>)\n",
            "tensor(0.9337, grad_fn=<NllLossBackward>)\n",
            "tensor(0.9021, grad_fn=<NllLossBackward>)\n",
            "tensor(0.7287, grad_fn=<NllLossBackward>)\n",
            "tensor(0.6383, grad_fn=<NllLossBackward>)\n",
            "tensor(0.5812, grad_fn=<NllLossBackward>)\n",
            "tensor(0.4656, grad_fn=<NllLossBackward>)\n",
            "tensor(0.4084, grad_fn=<NllLossBackward>)\n",
            "tensor(0.3786, grad_fn=<NllLossBackward>)\n",
            "tensor(0.3472, grad_fn=<NllLossBackward>)\n",
            "tensor(0.2704, grad_fn=<NllLossBackward>)\n",
            "tensor(0.2696, grad_fn=<NllLossBackward>)\n",
            "tensor(0.2537, grad_fn=<NllLossBackward>)\n",
            "tensor(0.2665, grad_fn=<NllLossBackward>)\n",
            "tensor(0.2590, grad_fn=<NllLossBackward>)\n",
            "tensor(0.2332, grad_fn=<NllLossBackward>)\n",
            "tensor(0.2296, grad_fn=<NllLossBackward>)\n",
            "tensor(0.1771, grad_fn=<NllLossBackward>)\n",
            "tensor(0.1612, grad_fn=<NllLossBackward>)\n",
            "tensor(0.1614, grad_fn=<NllLossBackward>)\n",
            "tensor(0.1516, grad_fn=<NllLossBackward>)\n",
            "tensor(0.1741, grad_fn=<NllLossBackward>)\n",
            "tensor(0.1373, grad_fn=<NllLossBackward>)\n",
            "tensor(0.1154, grad_fn=<NllLossBackward>)\n",
            "tensor(0.1715, grad_fn=<NllLossBackward>)\n",
            "tensor(0.1286, grad_fn=<NllLossBackward>)\n",
            "tensor(0.1198, grad_fn=<NllLossBackward>)\n",
            "tensor(0.1032, grad_fn=<NllLossBackward>)\n",
            "tensor(0.0864, grad_fn=<NllLossBackward>)\n",
            "tensor(0.0885, grad_fn=<NllLossBackward>)\n",
            "tensor(0.1033, grad_fn=<NllLossBackward>)\n",
            "tensor(0.0888, grad_fn=<NllLossBackward>)\n",
            "tensor(0.0872, grad_fn=<NllLossBackward>)\n",
            "tensor(0.0861, grad_fn=<NllLossBackward>)\n",
            "tensor(0.0873, grad_fn=<NllLossBackward>)\n",
            "tensor(0.0742, grad_fn=<NllLossBackward>)\n",
            "tensor(0.0846, grad_fn=<NllLossBackward>)\n",
            "tensor(0.0743, grad_fn=<NllLossBackward>)\n",
            "tensor(0.0901, grad_fn=<NllLossBackward>)\n",
            "tensor(0.0667, grad_fn=<NllLossBackward>)\n",
            "tensor(0.0740, grad_fn=<NllLossBackward>)\n",
            "tensor(0.0501, grad_fn=<NllLossBackward>)\n",
            "tensor(0.0665, grad_fn=<NllLossBackward>)\n",
            "tensor(0.0601, grad_fn=<NllLossBackward>)\n",
            "tensor(0.0457, grad_fn=<NllLossBackward>)\n",
            "tensor(0.0576, grad_fn=<NllLossBackward>)\n",
            "tensor(0.0560, grad_fn=<NllLossBackward>)\n",
            "tensor(0.0632, grad_fn=<NllLossBackward>)\n",
            "tensor(0.0751, grad_fn=<NllLossBackward>)\n",
            "tensor(0.0619, grad_fn=<NllLossBackward>)\n",
            "tensor(0.0706, grad_fn=<NllLossBackward>)\n",
            "tensor(0.0620, grad_fn=<NllLossBackward>)\n",
            "tensor(0.0429, grad_fn=<NllLossBackward>)\n",
            "tensor(0.0560, grad_fn=<NllLossBackward>)\n",
            "tensor(0.0466, grad_fn=<NllLossBackward>)\n",
            "tensor(0.0598, grad_fn=<NllLossBackward>)\n",
            "tensor(0.0411, grad_fn=<NllLossBackward>)\n",
            "tensor(0.0431, grad_fn=<NllLossBackward>)\n",
            "tensor(0.0497, grad_fn=<NllLossBackward>)\n",
            "tensor(0.0448, grad_fn=<NllLossBackward>)\n",
            "tensor(0.0526, grad_fn=<NllLossBackward>)\n",
            "tensor(0.0551, grad_fn=<NllLossBackward>)\n",
            "tensor(0.0554, grad_fn=<NllLossBackward>)\n",
            "tensor(0.0475, grad_fn=<NllLossBackward>)\n",
            "tensor(0.0553, grad_fn=<NllLossBackward>)\n",
            "tensor(0.0442, grad_fn=<NllLossBackward>)\n",
            "tensor(0.0501, grad_fn=<NllLossBackward>)\n",
            "tensor(0.0484, grad_fn=<NllLossBackward>)\n",
            "tensor(0.0525, grad_fn=<NllLossBackward>)\n",
            "tensor(0.0546, grad_fn=<NllLossBackward>)\n",
            "tensor(0.0411, grad_fn=<NllLossBackward>)\n",
            "tensor(0.0416, grad_fn=<NllLossBackward>)\n",
            "tensor(0.0468, grad_fn=<NllLossBackward>)\n",
            "tensor(0.0478, grad_fn=<NllLossBackward>)\n",
            "tensor(0.0370, grad_fn=<NllLossBackward>)\n",
            "tensor(0.0411, grad_fn=<NllLossBackward>)\n",
            "tensor(0.0326, grad_fn=<NllLossBackward>)\n",
            "tensor(0.0415, grad_fn=<NllLossBackward>)\n",
            "tensor(0.0275, grad_fn=<NllLossBackward>)\n",
            "tensor(0.0416, grad_fn=<NllLossBackward>)\n",
            "tensor(0.0423, grad_fn=<NllLossBackward>)\n",
            "tensor(0.0413, grad_fn=<NllLossBackward>)\n",
            "tensor(0.0463, grad_fn=<NllLossBackward>)\n",
            "tensor(0.0474, grad_fn=<NllLossBackward>)\n",
            "tensor(0.0309, grad_fn=<NllLossBackward>)\n",
            "tensor(0.0323, grad_fn=<NllLossBackward>)\n",
            "tensor(0.0376, grad_fn=<NllLossBackward>)\n",
            "tensor(0.0362, grad_fn=<NllLossBackward>)\n",
            "tensor(0.0599, grad_fn=<NllLossBackward>)\n",
            "tensor(0.0289, grad_fn=<NllLossBackward>)\n",
            "tensor(0.0341, grad_fn=<NllLossBackward>)\n",
            "tensor(0.0429, grad_fn=<NllLossBackward>)\n",
            "tensor(0.0394, grad_fn=<NllLossBackward>)\n",
            "tensor(0.0370, grad_fn=<NllLossBackward>)\n",
            "tensor(0.0390, grad_fn=<NllLossBackward>)\n"
          ]
        }
      ]
    },
    {
      "cell_type": "code",
      "metadata": {
        "colab": {
          "base_uri": "https://localhost:8080/"
        },
        "id": "z39VaBFLFJKp",
        "outputId": "6256e383-1125-4dc2-f142-b96891acc4a5"
      },
      "source": [
        "model.eval()\n",
        "pred = model(data).argmax(dim=1)\n",
        "correct = (pred[data.val_mask] == data.y[data.val_mask]).sum()\n",
        "acc = int(correct) / int(data.val_mask.sum())\n",
        "print('Accuracy: {:.4f}'.format(acc))"
      ],
      "execution_count": 133,
      "outputs": [
        {
          "output_type": "stream",
          "name": "stdout",
          "text": [
            "Accuracy: 0.7740\n"
          ]
        }
      ]
    }
  ]
}