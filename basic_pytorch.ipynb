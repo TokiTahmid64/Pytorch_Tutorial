{
  "nbformat": 4,
  "nbformat_minor": 0,
  "metadata": {
    "colab": {
      "name": "basic pytorch.ipynb",
      "provenance": []
    },
    "kernelspec": {
      "name": "python3",
      "display_name": "Python 3"
    },
    "language_info": {
      "name": "python"
    }
  },
  "cells": [
    {
      "cell_type": "code",
      "metadata": {
        "colab": {
          "base_uri": "https://localhost:8080/"
        },
        "id": "b17x6N83RU1s",
        "outputId": "551f55c1-2e93-4941-c493-8cbebfe5684b"
      },
      "source": [
        "import torch\n",
        "print(torch.__version__)"
      ],
      "execution_count": 1,
      "outputs": [
        {
          "output_type": "stream",
          "name": "stdout",
          "text": [
            "1.9.0+cu102\n"
          ]
        }
      ]
    },
    {
      "cell_type": "code",
      "metadata": {
        "id": "TjU9hHOsRdfb"
      },
      "source": [
        ""
      ],
      "execution_count": null,
      "outputs": []
    },
    {
      "cell_type": "markdown",
      "metadata": {
        "id": "jMrQi01OSiQp"
      },
      "source": [
        "## Tensor Initialization"
      ]
    },
    {
      "cell_type": "code",
      "metadata": {
        "id": "GC-29yZQTysk"
      },
      "source": [
        "device=\"cuda\" if torch.cuda.is_available() else \"cpu\""
      ],
      "execution_count": 2,
      "outputs": []
    },
    {
      "cell_type": "code",
      "metadata": {
        "colab": {
          "base_uri": "https://localhost:8080/"
        },
        "id": "FLiFnp15SkR_",
        "outputId": "930c13c7-1d0c-4145-bb74-d97ec7f0f71e"
      },
      "source": [
        "mytensor=torch.tensor([[1,2,3],[4,5,6]],dtype=torch.float32,device=\"cpu\")\n",
        "print(mytensor)\n",
        "print(mytensor.dtype)\n",
        "print(mytensor.device)\n",
        "print(mytensor.shape)"
      ],
      "execution_count": 3,
      "outputs": [
        {
          "output_type": "stream",
          "name": "stdout",
          "text": [
            "tensor([[1., 2., 3.],\n",
            "        [4., 5., 6.]])\n",
            "torch.float32\n",
            "cpu\n",
            "torch.Size([2, 3])\n"
          ]
        }
      ]
    },
    {
      "cell_type": "code",
      "metadata": {
        "colab": {
          "base_uri": "https://localhost:8080/"
        },
        "id": "df7Off08TUbw",
        "outputId": "a6a0c97b-c82b-4304-eea3-d8c6419bb2f3"
      },
      "source": [
        "#other initialization\n",
        "\n",
        "\n",
        "x=torch.empty(size=(3,3))\n",
        "y=torch.zeros((5,5))\n",
        "print(x)\n",
        "print(y)"
      ],
      "execution_count": null,
      "outputs": [
        {
          "output_type": "stream",
          "name": "stdout",
          "text": [
            "tensor([[2.1036e+37, 3.0674e-41, 1.2268e+37],\n",
            "        [3.0674e-41, 1.2269e+37, 3.0674e-41],\n",
            "        [1.2269e+37, 3.0674e-41, 1.2271e+37]])\n",
            "tensor([[0., 0., 0., 0., 0.],\n",
            "        [0., 0., 0., 0., 0.],\n",
            "        [0., 0., 0., 0., 0.],\n",
            "        [0., 0., 0., 0., 0.],\n",
            "        [0., 0., 0., 0., 0.]])\n"
          ]
        }
      ]
    },
    {
      "cell_type": "code",
      "metadata": {
        "colab": {
          "base_uri": "https://localhost:8080/"
        },
        "id": "YOBjdWH7USsR",
        "outputId": "5ba15624-8261-4b0a-ac63-1a88ed1f8cb6"
      },
      "source": [
        "x=torch.rand((5,5))\n",
        "print(x)\n",
        "print(x.mean())\n",
        "print(x.std())"
      ],
      "execution_count": null,
      "outputs": [
        {
          "output_type": "stream",
          "name": "stdout",
          "text": [
            "tensor([[0.7852, 0.3146, 0.0183, 0.4115, 0.3555],\n",
            "        [0.3906, 0.6538, 0.2453, 0.9137, 0.2244],\n",
            "        [0.9891, 0.7300, 0.8580, 0.9738, 0.4550],\n",
            "        [0.4704, 0.4490, 0.3324, 0.4505, 0.0519],\n",
            "        [0.9617, 0.8944, 0.8244, 0.4751, 0.2992]])\n",
            "tensor(0.5411)\n",
            "tensor(0.2943)\n"
          ]
        }
      ]
    },
    {
      "cell_type": "code",
      "metadata": {
        "colab": {
          "base_uri": "https://localhost:8080/"
        },
        "id": "ciPZf_mtUjz1",
        "outputId": "593ed9fb-82d9-4c6d-ec14-60f6ad6bbf40"
      },
      "source": [
        "x=torch.linspace(10,20,30) # 30 numbers between 10 and 20\n",
        "print(x)"
      ],
      "execution_count": null,
      "outputs": [
        {
          "output_type": "stream",
          "name": "stdout",
          "text": [
            "tensor([10.0000, 10.3448, 10.6897, 11.0345, 11.3793, 11.7241, 12.0690, 12.4138,\n",
            "        12.7586, 13.1034, 13.4483, 13.7931, 14.1379, 14.4828, 14.8276, 15.1724,\n",
            "        15.5172, 15.8621, 16.2069, 16.5517, 16.8966, 17.2414, 17.5862, 17.9310,\n",
            "        18.2759, 18.6207, 18.9655, 19.3103, 19.6552, 20.0000])\n"
          ]
        }
      ]
    },
    {
      "cell_type": "code",
      "metadata": {
        "id": "3dhJDHmXVEZi"
      },
      "source": [
        ""
      ],
      "execution_count": null,
      "outputs": []
    },
    {
      "cell_type": "code",
      "metadata": {
        "colab": {
          "base_uri": "https://localhost:8080/"
        },
        "id": "CSJlHZxVVEdF",
        "outputId": "e5334ec1-6359-4b96-f7ce-93bf311759dd"
      },
      "source": [
        "#type conversion\n",
        "\n",
        "\n",
        "tensor=torch.arange(4)\n",
        "print(tensor.bool())\n",
        "print(tensor.long())"
      ],
      "execution_count": null,
      "outputs": [
        {
          "output_type": "stream",
          "name": "stdout",
          "text": [
            "tensor([False,  True,  True,  True])\n",
            "tensor([0, 1, 2, 3])\n"
          ]
        }
      ]
    },
    {
      "cell_type": "code",
      "metadata": {
        "colab": {
          "base_uri": "https://localhost:8080/"
        },
        "id": "-YHXzcd4Z2V5",
        "outputId": "0d919257-82f3-4c81-db34-37f8675b6dcc"
      },
      "source": [
        "#Array to numpy conversion\n",
        "\n",
        "\n",
        "import numpy as np\n",
        "\n",
        "arr=np.ones((5,5))\n",
        "tensor=torch.from_numpy(arr)\n",
        "tensor"
      ],
      "execution_count": null,
      "outputs": [
        {
          "output_type": "execute_result",
          "data": {
            "text/plain": [
              "tensor([[1., 1., 1., 1., 1.],\n",
              "        [1., 1., 1., 1., 1.],\n",
              "        [1., 1., 1., 1., 1.],\n",
              "        [1., 1., 1., 1., 1.],\n",
              "        [1., 1., 1., 1., 1.]], dtype=torch.float64)"
            ]
          },
          "metadata": {},
          "execution_count": 22
        }
      ]
    },
    {
      "cell_type": "code",
      "metadata": {
        "id": "0ix-ySleaFMK"
      },
      "source": [
        ""
      ],
      "execution_count": null,
      "outputs": []
    },
    {
      "cell_type": "markdown",
      "metadata": {
        "id": "QJ92dZgvaOfK"
      },
      "source": [
        "# Tensor Maths"
      ]
    },
    {
      "cell_type": "code",
      "metadata": {
        "colab": {
          "base_uri": "https://localhost:8080/"
        },
        "id": "QMqMRzuZaWhm",
        "outputId": "4c5f1c85-a3e8-492b-9593-cd29b99e1a10"
      },
      "source": [
        "x=torch.tensor([1,2,3])\n",
        "y=torch.tensor([6,7,8])\n",
        "\n",
        "#add\n",
        "\n",
        "z1= x+y\n",
        "print(z1)\n",
        "\n",
        "#divide\n",
        "z=torch.true_divide(x,y)\n",
        "print(z)\n",
        "\n",
        "\n",
        "\n"
      ],
      "execution_count": 4,
      "outputs": [
        {
          "output_type": "stream",
          "name": "stdout",
          "text": [
            "tensor([ 7,  9, 11])\n",
            "tensor([0.1667, 0.2857, 0.3750])\n"
          ]
        }
      ]
    },
    {
      "cell_type": "code",
      "metadata": {
        "colab": {
          "base_uri": "https://localhost:8080/"
        },
        "id": "pRV2hl7EbAyz",
        "outputId": "7ac3f101-f371-400d-f00c-3456e63a784f"
      },
      "source": [
        "#inplace operations\n",
        "\n",
        "t=torch.zeros(3)\n",
        "t.add_(x) #underscore= in place\n",
        "\n",
        "z=x**2\n",
        "print(z)\n",
        "\n",
        "\n",
        "#matrix multiplication\n",
        "x=torch.rand((2,3))\n",
        "y=torch.rand((3,5))\n",
        "z=torch.mm(x,y)\n",
        "print(z)"
      ],
      "execution_count": 5,
      "outputs": [
        {
          "output_type": "stream",
          "name": "stdout",
          "text": [
            "tensor([1, 4, 9])\n",
            "tensor([[0.4151, 0.1840, 0.2776, 0.4498, 0.3287],\n",
            "        [0.4878, 0.2657, 0.5682, 0.4418, 0.1217]])\n"
          ]
        }
      ]
    },
    {
      "cell_type": "code",
      "metadata": {
        "colab": {
          "base_uri": "https://localhost:8080/"
        },
        "id": "MYAtg1tabhLj",
        "outputId": "bdf03cff-090d-4a38-b7a0-90cef418e990"
      },
      "source": [
        "#batch matrix multiplication\n",
        "\n",
        "batch=32\n",
        "n=10\n",
        "m=20\n",
        "p=30\n",
        "\n",
        "tensor1=torch.rand((batch,n,m)) # 3d matrix \n",
        "tensor2=torch.rand((batch,m,p))\n",
        "\n",
        "res=torch.bmm(tensor1,tensor2)\n",
        "print(res.shape)"
      ],
      "execution_count": 6,
      "outputs": [
        {
          "output_type": "stream",
          "name": "stdout",
          "text": [
            "torch.Size([32, 10, 30])\n"
          ]
        }
      ]
    },
    {
      "cell_type": "code",
      "metadata": {
        "colab": {
          "base_uri": "https://localhost:8080/"
        },
        "id": "8QDrYsjsfY1Q",
        "outputId": "0eaef9f8-ff19-4b7d-d893-5bb7cf7e45ed"
      },
      "source": [
        "#broadcasting\n",
        "\n",
        "\n",
        "x1=torch.rand((5,5))\n",
        "x2=torch.rand((1,5))\n",
        "\n",
        "z=x1-x2\n",
        "print(z)"
      ],
      "execution_count": 7,
      "outputs": [
        {
          "output_type": "stream",
          "name": "stdout",
          "text": [
            "tensor([[-0.5229, -0.0374,  0.2356, -0.3563, -0.3221],\n",
            "        [ 0.0192, -0.4516,  0.7869,  0.1797, -0.5022],\n",
            "        [-0.5798, -0.5663, -0.0958, -0.3866,  0.1488],\n",
            "        [-0.2695, -0.1562,  0.6244,  0.1686, -0.7017],\n",
            "        [-0.5780, -0.2143, -0.0533, -0.0777,  0.0520]])\n"
          ]
        }
      ]
    },
    {
      "cell_type": "code",
      "metadata": {
        "colab": {
          "base_uri": "https://localhost:8080/"
        },
        "id": "A32QW--vfs6E",
        "outputId": "8fcfc7d6-5580-4db6-83de-aea0702adc4f"
      },
      "source": [
        "#some useful functions\n",
        "print(x)\n",
        "sum_x=torch.sum(x,dim=0)\n",
        "print(sum_x)\n",
        "values,idx=torch.max(x,dim=0)\n",
        "print(values)"
      ],
      "execution_count": 8,
      "outputs": [
        {
          "output_type": "stream",
          "name": "stdout",
          "text": [
            "tensor([[0.2178, 0.3034, 0.1979],\n",
            "        [0.4578, 0.0272, 0.4734]])\n",
            "tensor([0.6756, 0.3306, 0.6712])\n",
            "tensor([0.4578, 0.3034, 0.4734])\n"
          ]
        }
      ]
    },
    {
      "cell_type": "markdown",
      "metadata": {
        "id": "nicfbtf3gbd6"
      },
      "source": [
        "## Tensor Indexing"
      ]
    },
    {
      "cell_type": "code",
      "metadata": {
        "id": "XmUrdscegeL9",
        "colab": {
          "base_uri": "https://localhost:8080/"
        },
        "outputId": "2f56c207-0e5a-4dd5-b5b1-3c680c876147"
      },
      "source": [
        "batch_size=10\n",
        "features=25\n",
        "x=torch.rand((batch_size,features))\n",
        "\n",
        "print(x[0].shape)\n",
        "print(x[2,0:5])"
      ],
      "execution_count": 11,
      "outputs": [
        {
          "output_type": "stream",
          "name": "stdout",
          "text": [
            "torch.Size([25])\n",
            "tensor([0.2757, 0.8663, 0.6896, 0.9229, 0.6373])\n"
          ]
        }
      ]
    },
    {
      "cell_type": "code",
      "metadata": {
        "colab": {
          "base_uri": "https://localhost:8080/"
        },
        "id": "odlR_w5dSgEX",
        "outputId": "02c6684f-53c6-4368-a7ca-763ac32dcc25"
      },
      "source": [
        "#torch reshaping\n",
        "\n",
        "x=torch.arange(9)\n",
        "x_3=x.reshape(3,3)\n",
        "x_3\n",
        "y=x_3.t() #transpose\n",
        "print(y)"
      ],
      "execution_count": 15,
      "outputs": [
        {
          "output_type": "stream",
          "name": "stdout",
          "text": [
            "tensor([[0, 3, 6],\n",
            "        [1, 4, 7],\n",
            "        [2, 5, 8]])\n"
          ]
        }
      ]
    },
    {
      "cell_type": "code",
      "metadata": {
        "colab": {
          "base_uri": "https://localhost:8080/"
        },
        "id": "ykQEY6AzSwqJ",
        "outputId": "f4edd2bc-9310-42f7-8d03-24c3338037f6"
      },
      "source": [
        "#concat\n",
        "\n",
        "x1=torch.rand((2,5))\n",
        "x2=torch.rand((2,5))\n",
        "print(torch.cat((x1,x2),dim=0).shape)\n",
        "\n",
        "\n",
        "#unroll\n",
        "\n",
        "batch=64\n",
        "x=torch.rand((batch,2,5))\n",
        "z=x.view(batch,-1)\n",
        "print(z.shape)\n",
        "\n",
        "\n",
        "\n",
        "#switch axis\n",
        "\n",
        "z=x.permute(0,2,1) # 1st dimention at place , other 2 swaped\n",
        "print(z.shape)"
      ],
      "execution_count": 19,
      "outputs": [
        {
          "output_type": "stream",
          "name": "stdout",
          "text": [
            "torch.Size([4, 5])\n",
            "torch.Size([64, 10])\n",
            "torch.Size([64, 5, 2])\n"
          ]
        }
      ]
    }
  ]
}